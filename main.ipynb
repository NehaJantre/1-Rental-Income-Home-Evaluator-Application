{
 "cells": [
  {
   "cell_type": "code",
   "execution_count": null,
   "id": "b22d523d",
   "metadata": {},
   "outputs": [],
   "source": [
    "# Import the required libraries and dependencies\n",
    "import os\n",
    "import pandas as pd\n",
    "import plotly.express as px\n",
    "from pathlib import Path\n",
    "from dotenv import load_dotenv\n",
    "import hvplot.pandas"
   ]
  },
  {
   "cell_type": "code",
   "execution_count": null,
   "id": "ee47580f",
   "metadata": {},
   "outputs": [],
   "source": [
    "data_df =  pd.read_csv(\n",
    "    Path(\"Dat/sfo_neighborhoods_census_data.csv\")\n",
    ")\n",
    "\n",
    "# Review the first and last five rows of the DataFrame\n",
    "display(sfo_data_df.head())\n",
    "display(sfo_data_df.tail())"
   ]
  }
 ],
 "metadata": {
  "kernelspec": {
   "display_name": "Python (dev)",
   "language": "python",
   "name": "dev"
  },
  "language_info": {
   "codemirror_mode": {
    "name": "ipython",
    "version": 3
   },
   "file_extension": ".py",
   "mimetype": "text/x-python",
   "name": "python",
   "nbconvert_exporter": "python",
   "pygments_lexer": "ipython3",
   "version": "3.7.10"
  }
 },
 "nbformat": 4,
 "nbformat_minor": 5
}
